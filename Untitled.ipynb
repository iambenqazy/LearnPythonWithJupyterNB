{
 "cells": [
  {
   "cell_type": "code",
   "execution_count": 1,
   "metadata": {},
   "outputs": [],
   "source": [
    "not_weird = [2,3,4,5]\n",
    "weird = list(range(6,21))"
   ]
  },
  {
   "cell_type": "code",
   "execution_count": 11,
   "metadata": {},
   "outputs": [
    {
     "name": "stdout",
     "output_type": "stream",
     "text": [
      "Enter a number: 46\n",
      "Not Weird\n"
     ]
    }
   ],
   "source": [
    "not_weird = [2,3,4,5]\n",
    "weird = list(range(6,21))\n",
    "\n",
    "n = int(input(\"Enter a number: \"))\n",
    "if not n%2 == 0:\n",
    "    print(\"Weird\")\n",
    "elif n%2 == 0 and n in not_weird:\n",
    "    print(\"Not Weird\")\n",
    "elif n%2 == 0 and n in weird:\n",
    "    print(\"Weird\")\n",
    "elif n%2 == 0 and n > 20:\n",
    "    print(\"Not Weird\")\n",
    "    "
   ]
  },
  {
   "cell_type": "code",
   "execution_count": null,
   "metadata": {},
   "outputs": [],
   "source": []
  }
 ],
 "metadata": {
  "kernelspec": {
   "display_name": "Python 3",
   "language": "python",
   "name": "python3"
  },
  "language_info": {
   "codemirror_mode": {
    "name": "ipython",
    "version": 3
   },
   "file_extension": ".py",
   "mimetype": "text/x-python",
   "name": "python",
   "nbconvert_exporter": "python",
   "pygments_lexer": "ipython3",
   "version": "3.8.2"
  }
 },
 "nbformat": 4,
 "nbformat_minor": 4
}

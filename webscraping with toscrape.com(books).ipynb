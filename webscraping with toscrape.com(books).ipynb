{
 "cells": [
  {
   "cell_type": "code",
   "execution_count": 1,
   "metadata": {},
   "outputs": [],
   "source": [
    "# Goal: Get tittle of every book with a 2 star rating"
   ]
  },
  {
   "cell_type": "code",
   "execution_count": 122,
   "metadata": {},
   "outputs": [],
   "source": [
    "import requests\n",
    "import bs4"
   ]
  },
  {
   "cell_type": "code",
   "execution_count": 18,
   "metadata": {},
   "outputs": [],
   "source": [
    "page_num = 1"
   ]
  },
  {
   "cell_type": "code",
   "execution_count": 19,
   "metadata": {},
   "outputs": [],
   "source": [
    "base_url = f'http://books.toscrape.com/catalogue/page-{page_num}.html'"
   ]
  },
  {
   "cell_type": "code",
   "execution_count": 20,
   "metadata": {},
   "outputs": [
    {
     "data": {
      "text/plain": [
       "'http://books.toscrape.com/catalogue/page-1.html'"
      ]
     },
     "execution_count": 20,
     "metadata": {},
     "output_type": "execute_result"
    }
   ],
   "source": [
    "base_url"
   ]
  },
  {
   "cell_type": "code",
   "execution_count": null,
   "metadata": {},
   "outputs": [],
   "source": []
  },
  {
   "cell_type": "code",
   "execution_count": 21,
   "metadata": {},
   "outputs": [],
   "source": [
    "res = requests.get(base_url)"
   ]
  },
  {
   "cell_type": "code",
   "execution_count": 22,
   "metadata": {},
   "outputs": [
    {
     "data": {
      "text/plain": [
       "<Response [200]>"
      ]
     },
     "execution_count": 22,
     "metadata": {},
     "output_type": "execute_result"
    }
   ],
   "source": [
    "res"
   ]
  },
  {
   "cell_type": "code",
   "execution_count": 23,
   "metadata": {},
   "outputs": [],
   "source": [
    "soup = bs4.BeautifulSoup(res.text,'lxml')"
   ]
  },
  {
   "cell_type": "code",
   "execution_count": 99,
   "metadata": {},
   "outputs": [],
   "source": [
    "products = soup.select(\".product_pod\")"
   ]
  },
  {
   "cell_type": "code",
   "execution_count": 91,
   "metadata": {},
   "outputs": [
    {
     "data": {
      "text/plain": [
       "20"
      ]
     },
     "execution_count": 91,
     "metadata": {},
     "output_type": "execute_result"
    }
   ],
   "source": [
    "len(products)"
   ]
  },
  {
   "cell_type": "code",
   "execution_count": 96,
   "metadata": {},
   "outputs": [],
   "source": [
    "products_list = products[0].select('.star-rating.Three')[0]['class']"
   ]
  },
  {
   "cell_type": "code",
   "execution_count": 97,
   "metadata": {},
   "outputs": [
    {
     "data": {
      "text/plain": [
       "['star-rating', 'Three']"
      ]
     },
     "execution_count": 97,
     "metadata": {},
     "output_type": "execute_result"
    }
   ],
   "source": [
    "products_list"
   ]
  },
  {
   "cell_type": "code",
   "execution_count": 77,
   "metadata": {},
   "outputs": [
    {
     "data": {
      "text/plain": [
       "'A Light in the Attic'"
      ]
     },
     "execution_count": 77,
     "metadata": {},
     "output_type": "execute_result"
    }
   ],
   "source": [
    "products[0].select('a')[1]['title']"
   ]
  },
  {
   "cell_type": "code",
   "execution_count": 67,
   "metadata": {},
   "outputs": [],
   "source": [
    "# we can check if something is 2 stars (string call in, example.select(rating))\n",
    "# example.select('a')[1]['title'] to grab the book title"
   ]
  },
  {
   "cell_type": "code",
   "execution_count": 123,
   "metadata": {},
   "outputs": [],
   "source": [
    "two_star_titles = []\n",
    "\n",
    "for n in range(1,51):\n",
    "    \n",
    "    scrape_url = f'http://books.toscrape.com/catalogue/page-{n}.html'\n",
    "    res = requests.get(scrape_url)\n",
    "    \n",
    "    soup = bs4.BeautifulSoup(res.text,'lxml')\n",
    "    books = soup.select('.product_pod')\n",
    "    \n",
    "    for book in books:\n",
    "        if len(book.select('.star-rating.Two')) != 0:\n",
    "            book_title = book.select('a')[1]['title']\n",
    "            two_star_titles.append(book_title)\n",
    "            "
   ]
  },
  {
   "cell_type": "code",
   "execution_count": 124,
   "metadata": {},
   "outputs": [
    {
     "name": "stdout",
     "output_type": "stream",
     "text": [
      "1. Starving Hearts (Triangular Trade Trilogy, #1)\n",
      "2. Libertarianism for Beginners\n",
      "3. It's Only the Himalayas\n",
      "4. How Music Works\n",
      "5. Maude (1883-1993):She Grew Up with the country\n",
      "6. You can't bury them all: Poems\n",
      "7. Reasons to Stay Alive\n",
      "8. Without Borders (Wanderlove #1)\n",
      "9. Soul Reader\n",
      "10. Security\n",
      "11. Saga, Volume 5 (Saga (Collected Editions) #5)\n",
      "12. Reskilling America: Learning to Labor in the Twenty-First Century\n",
      "13. Political Suicide: Missteps, Peccadilloes, Bad Calls, Backroom Hijinx, Sordid Pasts, Rotten Breaks, and Just Plain Dumb Mistakes in the Annals of American Politics\n",
      "14. Obsidian (Lux #1)\n",
      "15. My Paris Kitchen: Recipes and Stories\n",
      "16. Masks and Shadows\n",
      "17. Lumberjanes, Vol. 2: Friendship to the Max (Lumberjanes #5-8)\n",
      "18. Lumberjanes Vol. 3: A Terrible Plan (Lumberjanes #9-12)\n",
      "19. Judo: Seven Steps to Black Belt (an Introductory Guide for Beginners)\n",
      "20. I Hate Fairyland, Vol. 1: Madly Ever After (I Hate Fairyland (Compilations) #1-5)\n",
      "21. Giant Days, Vol. 2 (Giant Days #5-8)\n",
      "22. Everydata: The Misinformation Hidden in the Little Data You Consume Every Day\n",
      "23. Don't Be a Jerk: And Other Practical Advice from Dogen, Japan's Greatest Zen Master\n",
      "24. Bossypants\n",
      "25. Bitch Planet, Vol. 1: Extraordinary Machine (Bitch Planet (Collected Editions))\n",
      "26. Avatar: The Last Airbender: Smoke and Shadow, Part 3 (Smoke and Shadow #3)\n",
      "27. Tuesday Nights in 1980\n",
      "28. The Psychopath Test: A Journey Through the Madness Industry\n",
      "29. The Power of Now: A Guide to Spiritual Enlightenment\n",
      "30. The Omnivore's Dilemma: A Natural History of Four Meals\n",
      "31. The Love and Lemons Cookbook: An Apple-to-Zucchini Celebration of Impromptu Cooking\n",
      "32. The Girl on the Train\n",
      "33. The Emerald Mystery\n",
      "34. The Argonauts\n",
      "35. Suddenly in Love (Lake Haven #1)\n",
      "36. Soft Apocalypse\n",
      "37. So You've Been Publicly Shamed\n",
      "38. Shoe Dog: A Memoir by the Creator of NIKE\n",
      "39. Louisa: The Extraordinary Life of Mrs. Adams\n",
      "40. Large Print Heart of the Pride\n",
      "41. Grumbles\n",
      "42. Chasing Heaven: What Dying Taught Me About Living\n",
      "43. Becoming Wise: An Inquiry into the Mystery and Art of Living\n",
      "44. Beauty Restored (Riley Family Legacy Novellas #3)\n",
      "45. Batman: The Long Halloween (Batman)\n",
      "46. Ayumi's Violin\n",
      "47. Wild Swans\n",
      "48. What's It Like in Space?: Stories from Astronauts Who've Been There\n",
      "49. Until Friday Night (The Field Party #1)\n",
      "50. Unbroken: A World War II Story of Survival, Resilience, and Redemption\n",
      "51. Twenty Yawns\n",
      "52. Through the Woods\n",
      "53. This Is Where It Ends\n",
      "54. The Year of Magical Thinking\n",
      "55. The Last Mile (Amos Decker #2)\n",
      "56. The Immortal Life of Henrietta Lacks\n",
      "57. The Hidden Oracle (The Trials of Apollo #1)\n",
      "58. The Guilty (Will Robie #4)\n",
      "59. Red Hood/Arsenal, Vol. 1: Open for Business (Red Hood/Arsenal #1)\n",
      "60. Once Was a Time\n",
      "61. No Dream Is Too High: Life Lessons From a Man Who Walked on the Moon\n",
      "62. Naruto (3-in-1 Edition), Vol. 14: Includes Vols. 40, 41 & 42 (Naruto: Omnibus #14)\n",
      "63. More Than Music (Chasing the Dream #1)\n",
      "64. Lowriders to the Center of the Earth (Lowriders in Space #2)\n",
      "65. Eat Fat, Get Thin\n",
      "66. Doctor Sleep (The Shining #2)\n",
      "67. Crazy Love: Overwhelmed by a Relentless God\n",
      "68. Carrie\n",
      "69. Batman: Europa\n",
      "70. Angels Walking (Angels Walking #1)\n",
      "71. Adulthood Is a Myth: A \"Sarah's Scribbles\" Collection\n",
      "72. A Study in Scarlet (Sherlock Holmes #1)\n",
      "73. A Series of Catastrophes and Miracles: A True Story of Love, Science, and Cancer\n",
      "74. A People's History of the United States\n",
      "75. My Kitchen Year: 136 Recipes That Saved My Life\n",
      "76. The Lonely City: Adventures in the Art of Being Alone\n",
      "77. The Dinner Party\n",
      "78. Stars Above (The Lunar Chronicles #4.5)\n",
      "79. Love, Lies and Spies\n",
      "80. Troublemaker: Surviving Hollywood and Scientology\n",
      "81. The Widow\n",
      "82. Setting the World on Fire: The Brief, Astonishing Life of St. Catherine of Siena\n",
      "83. Mothering Sunday\n",
      "84. Lilac Girls\n",
      "85. 10% Happier: How I Tamed the Voice in My Head, Reduced Stress Without Losing My Edge, and Found Self-Help That Actually Works\n",
      "86. Underlying Notes\n",
      "87. The Flowers Lied\n",
      "88. Modern Day Fables\n",
      "89. Chernobyl 01:23:40: The Incredible True Story of the World's Worst Nuclear Disaster\n",
      "90. 23 Degrees South: A Tropical Tale of Changing Whether...\n",
      "91. When Breath Becomes Air\n",
      "92. Vagabonding: An Uncommon Guide to the Art of Long-Term World Travel\n",
      "93. The Martian (The Martian #1)\n",
      "94. Miller's Valley\n",
      "95. Love That Boy: What Two Presidents, Eight Road Trips, and My Son Taught Me About a Parent's Expectations\n",
      "96. Left Behind (Left Behind #1)\n",
      "97. Howl and Other Poems\n",
      "98. Heaven is for Real: A Little Boy's Astounding Story of His Trip to Heaven and Back\n",
      "99. Brazen: The Courage to Find the You That's Been Hiding\n",
      "100. 32 Yolks\n",
      "101. Wildlife of New York: A Five-Borough Coloring Book\n",
      "102. Unreasonable Hope: Finding Faith in the God Who Brings Purpose to Your Pain\n",
      "103. The Art Book\n",
      "104. Steal Like an Artist: 10 Things Nobody Told You About Being Creative\n",
      "105. Raymie Nightingale\n",
      "106. Like Never Before (Walker Family #2)\n",
      "107. How to Be a Domestic Goddess: Baking and the Art of Comfort Cooking\n",
      "108. Finding God in the Ruins: How God Redeems Pain\n",
      "109. Chronicles, Vol. 1\n",
      "110. A Summer In Europe\n",
      "111. The Rise and Fall of the Third Reich: A History of Nazi Germany\n",
      "112. The Makings of a Fatherless Child\n",
      "113. The Fellowship of the Ring (The Lord of the Rings #1)\n",
      "114. Tell the Wolves I'm Home\n",
      "115. In the Woods (Dublin Murder Squad #1)\n",
      "116. Give It Back\n",
      "117. Why Save the Bankers?: And Other Essays on Our Economic and Political Crisis\n",
      "118. The Raven King (The Raven Cycle #4)\n",
      "119. The Expatriates\n",
      "120. The 5th Wave (The 5th Wave #1)\n",
      "121. Peak: Secrets from the New Science of Expertise\n",
      "122. Logan Kade (Fallen Crest High #5.5)\n",
      "123. I Know Why the Caged Bird Sings (Maya Angelou's Autobiography #1)\n",
      "124. Drama\n",
      "125. America's War for the Greater Middle East: A Military History\n",
      "126. A Game of Thrones (A Song of Ice and Fire #1)\n",
      "127. The Pilgrim's Progress\n",
      "128. The Hound of the Baskervilles (Sherlock Holmes #5)\n",
      "129. The Geography of Bliss: One Grump's Search for the Happiest Places in the World\n",
      "130. The Demonists (Demonist #1)\n",
      "131. The Demon Prince of Momochi House, Vol. 4 (The Demon Prince of Momochi House #4)\n",
      "132. Misery\n",
      "133. Far From True (Promise Falls Trilogy #2)\n",
      "134. Confessions of a Shopaholic (Shopaholic #1)\n",
      "135. Vegan Vegetarian Omnivore: Dinner for Everyone at the Table\n",
      "136. Two Boys Kissing\n",
      "137. Twilight (Twilight #1)\n",
      "138. Twenties Girl\n",
      "139. The Tipping Point: How Little Things Can Make a Big Difference\n",
      "140. The Stand\n",
      "141. The Picture of Dorian Gray\n",
      "142. The Name of God is Mercy\n",
      "143. The Lover's Dictionary\n",
      "144. The Last Painting of Sara de Vos\n",
      "145. The Guns of August\n",
      "146. The Girl Who Played with Fire (Millennium Trilogy #2)\n",
      "147. The Da Vinci Code (Robert Langdon #2)\n",
      "148. The Cat in the Hat (Beginner Books B-1)\n",
      "149. The Book Thief\n",
      "150. The Autobiography of Malcolm X\n",
      "151. Surely You're Joking, Mr. Feynman!: Adventures of a Curious Character\n",
      "152. Soldier (Talon #3)\n",
      "153. Shopaholic & Baby (Shopaholic #5)\n",
      "154. Seven Days in the Art World\n",
      "155. Rework\n",
      "156. Packing for Mars: The Curious Science of Life in the Void\n",
      "157. Orange Is the New Black\n",
      "158. One for the Money (Stephanie Plum #1)\n",
      "159. Midnight Riot (Peter Grant/ Rivers of London - books #1)\n",
      "160. Me Talk Pretty One Day\n",
      "161. Manuscript Found in Accra\n",
      "162. Lust & Wonder\n",
      "163. Life, the Universe and Everything (Hitchhiker's Guide to the Galaxy #3)\n",
      "164. Life After Life\n",
      "165. I Am Malala: The Girl Who Stood Up for Education and Was Shot by the Taliban\n",
      "166. House of Lost Worlds: Dinosaurs, Dynasties, and the Story of Life on Earth\n",
      "167. Horrible Bear!\n",
      "168. Holidays on Ice\n",
      "169. Girl in the Blue Coat\n",
      "170. Fruits Basket, Vol. 3 (Fruits Basket #3)\n",
      "171. Cosmos\n",
      "172. Civilization and Its Discontents\n",
      "173. Catastrophic Happiness: Finding Joy in Childhood's Messy Years\n",
      "174. Career of Evil (Cormoran Strike #3)\n",
      "175. Born to Run: A Hidden Tribe, Superathletes, and the Greatest Race the World Has Never Seen\n",
      "176. Best of My Love (Fool's Gold #20)\n",
      "177. Beowulf\n",
      "178. Awkward\n",
      "179. And Then There Were None\n",
      "180. A Storm of Swords (A Song of Ice and Fire #3)\n",
      "181. The Suffragettes (Little Black Classics, #96)\n",
      "182. Vampire Girl (Vampire Girl #1)\n",
      "183. Three Wishes (River of Time: California #1)\n",
      "184. The Wicked + The Divine, Vol. 1: The Faust Act (The Wicked + The Divine)\n",
      "185. The Little Prince\n",
      "186. The Last Girl (The Dominion Trilogy #1)\n",
      "187. Taking Shots (Assassins #1)\n",
      "188. Settling the Score (The Summer Games #1)\n",
      "189. Rhythm, Chord & Malykhin\n",
      "190. One Second (Seven #7)\n",
      "191. Old Records Never Die: One Man's Quest for His Vinyl and His Past\n",
      "192. Of Mice and Men\n",
      "193. My Perfect Mistake (Over the Top #1)\n",
      "194. Meditations\n",
      "195. Frankenstein\n",
      "196. Emma\n"
     ]
    }
   ],
   "source": [
    "for index, book in enumerate(two_star_titles, start=1):\n",
    "    print(f\"{index}. {book}\")"
   ]
  },
  {
   "cell_type": "code",
   "execution_count": 125,
   "metadata": {},
   "outputs": [
    {
     "data": {
      "text/plain": [
       "196"
      ]
     },
     "execution_count": 125,
     "metadata": {},
     "output_type": "execute_result"
    }
   ],
   "source": [
    "len(two_star_titles)"
   ]
  },
  {
   "cell_type": "code",
   "execution_count": null,
   "metadata": {},
   "outputs": [],
   "source": []
  }
 ],
 "metadata": {
  "kernelspec": {
   "display_name": "Python 3",
   "language": "python",
   "name": "python3"
  },
  "language_info": {
   "codemirror_mode": {
    "name": "ipython",
    "version": 3
   },
   "file_extension": ".py",
   "mimetype": "text/x-python",
   "name": "python",
   "nbconvert_exporter": "python",
   "pygments_lexer": "ipython3",
   "version": "3.8.2"
  }
 },
 "nbformat": 4,
 "nbformat_minor": 4
}

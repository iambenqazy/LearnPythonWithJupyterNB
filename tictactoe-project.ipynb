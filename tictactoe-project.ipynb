{
 "cells": [
  {
   "cell_type": "markdown",
   "metadata": {},
   "source": [
    "# TicTacToe Game project using Python\n"
   ]
  },
  {
   "cell_type": "code",
   "execution_count": 30,
   "metadata": {},
   "outputs": [],
   "source": [
    "from IPython.display import clear_output\n",
    "\n",
    "def display_board(board):\n",
    "    \n",
    "    \n",
    "    '''\n",
    "    This function prints a tictactoe board\n",
    "    like below:\n",
    "    \n",
    "    test_board = ['#','X','O','X']\n",
    "     X | O | X \n",
    "    ---|---|---\n",
    "     O | X | O \n",
    "    ---|---|---\n",
    "     X | O | X \n",
    "   \n",
    "    ''' \n",
    "    clear_output()\n",
    "    h_sep = '-' * 3\n",
    "    for i in range(3):\n",
    "        print(f\"{board[1]:^3}|{board[2]:^3}|{board[3]:^3}\")\n",
    "        if i != 2:\n",
    "            print(f\"{h_sep:^3}|{h_sep:^3}|{h_sep:^3}\")"
   ]
  },
  {
   "cell_type": "code",
   "execution_count": 34,
   "metadata": {},
   "outputs": [
    {
     "name": "stdout",
     "output_type": "stream",
     "text": [
      " X | O | X \n",
      "---|---|---\n",
      " X | O | X \n",
      "---|---|---\n",
      " X | O | X \n"
     ]
    }
   ],
   "source": [
    "test_board = ['#','X','O','X','O','X','O','X','O','X']\n",
    "display_board(test_board)"
   ]
  },
  {
   "cell_type": "code",
   "execution_count": 38,
   "metadata": {},
   "outputs": [
    {
     "name": "stdout",
     "output_type": "stream",
     "text": [
      "Player 1, select your mark either 'X' or 'O'oxxoxox\n"
     ]
    },
    {
     "data": {
      "text/plain": [
       "('O', 'X')"
      ]
     },
     "execution_count": 38,
     "metadata": {},
     "output_type": "execute_result"
    }
   ],
   "source": [
    "def player_input():\n",
    "    \n",
    "    mark_input = ''\n",
    "    mark_list = ['X','O']\n",
    "    \n",
    "    # check if user input is in mark_list\n",
    "    while not mark_input in mark_list:\n",
    "        mark_input = input(\"Player 1, select your mark either 'X' or 'O'\")[0].upper()\n",
    "    \n",
    "    player1 = mark_input\n",
    "    \n",
    "    if player1 == 'X':\n",
    "        player2 = 'O'\n",
    "    else:\n",
    "        player2 = 'X'\n",
    "    \n",
    "    return player1,player2\n",
    "        \n",
    "\n",
    "\n",
    "player_input()"
   ]
  },
  {
   "cell_type": "code",
   "execution_count": null,
   "metadata": {},
   "outputs": [],
   "source": []
  },
  {
   "cell_type": "code",
   "execution_count": 24,
   "metadata": {},
   "outputs": [],
   "source": [
    "def place_maker(board,marker,position):\n",
    "    position_list = list(range(1,10))\n",
    "    \n",
    "    if position in position_list:\n",
    "        board[position] = marker\n",
    "    \n",
    "    return board"
   ]
  },
  {
   "cell_type": "code",
   "execution_count": 35,
   "metadata": {},
   "outputs": [
    {
     "data": {
      "text/plain": [
       "['#', '$', 'O', 'X', 'O', 'X', 'O', 'X', 'O', 'X']"
      ]
     },
     "execution_count": 35,
     "metadata": {},
     "output_type": "execute_result"
    }
   ],
   "source": [
    "place_maker(test_board,'$',1)"
   ]
  },
  {
   "cell_type": "code",
   "execution_count": 36,
   "metadata": {},
   "outputs": [
    {
     "name": "stdout",
     "output_type": "stream",
     "text": [
      " $ | O | X \n",
      "---|---|---\n",
      " $ | O | X \n",
      "---|---|---\n",
      " $ | O | X \n"
     ]
    }
   ],
   "source": [
    "display_board(test_board)"
   ]
  },
  {
   "cell_type": "code",
   "execution_count": null,
   "metadata": {},
   "outputs": [],
   "source": []
  }
 ],
 "metadata": {
  "kernelspec": {
   "display_name": "Python 3",
   "language": "python",
   "name": "python3"
  },
  "language_info": {
   "codemirror_mode": {
    "name": "ipython",
    "version": 3
   },
   "file_extension": ".py",
   "mimetype": "text/x-python",
   "name": "python",
   "nbconvert_exporter": "python",
   "pygments_lexer": "ipython3",
   "version": "3.8.2"
  }
 },
 "nbformat": 4,
 "nbformat_minor": 4
}

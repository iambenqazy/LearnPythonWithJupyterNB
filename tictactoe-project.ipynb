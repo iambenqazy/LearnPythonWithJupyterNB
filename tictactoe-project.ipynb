{
 "cells": [
  {
   "cell_type": "markdown",
   "metadata": {},
   "source": [
    "# TicTacToe Game project using Python\n"
   ]
  },
  {
   "cell_type": "code",
   "execution_count": 109,
   "metadata": {},
   "outputs": [],
   "source": [
    "from IPython.display import clear_output\n",
    "\n",
    "def display_board(board):\n",
    "    \n",
    "    \n",
    "    '''\n",
    "    This function prints a tic-tac-toe board\n",
    "    like below:\n",
    "    \n",
    "    test_board = ['#','X','O','X','O','X','O','X','O','X']\n",
    "     X | O | X \n",
    "    ---|---|---\n",
    "     O | X | O \n",
    "    ---|---|---\n",
    "     X | O | X \n",
    "   \n",
    "    ''' \n",
    "    clear_output()\n",
    "    \n",
    "    board = board[1:]\n",
    "    h_sep = '-' * 3\n",
    "    \n",
    "    for i in reversed(range(3)):\n",
    "        print(f\"{board[i*3]:^3}|{board[i*3+1]:^3}|{board[i*3+2]:^3}\")\n",
    "        \n",
    "        if i != 0:\n",
    "            print(f\"{h_sep:^3}|{h_sep:^3}|{h_sep:^3}\")"
   ]
  },
  {
   "cell_type": "code",
   "execution_count": 37,
   "metadata": {},
   "outputs": [
    {
     "name": "stdout",
     "output_type": "stream",
     "text": [
      " X | O | X \n",
      "---|---|---\n",
      " O | X | O \n",
      "---|---|---\n",
      " X | O | X \n"
     ]
    }
   ],
   "source": [
    "test_board = ['#','X','O','X','O','X','O','X','O','X']\n",
    "display_board(test_board)"
   ]
  },
  {
   "cell_type": "code",
   "execution_count": null,
   "metadata": {},
   "outputs": [],
   "source": []
  },
  {
   "cell_type": "code",
   "execution_count": 110,
   "metadata": {},
   "outputs": [
    {
     "name": "stdout",
     "output_type": "stream",
     "text": [
      "Player 1, select your mark either 'X' or 'O'x\n"
     ]
    },
    {
     "data": {
      "text/plain": [
       "('X', 'O')"
      ]
     },
     "execution_count": 110,
     "metadata": {},
     "output_type": "execute_result"
    }
   ],
   "source": [
    "def player_input():\n",
    "    \n",
    "    '''\n",
    "    OUTPUT = (Player 1 marker, Player 2 marker)\n",
    "    '''\n",
    "    \n",
    "    mark_input = ''\n",
    "    mark_list = ['X','O']\n",
    "    \n",
    "    # check if user input is in mark_list\n",
    "    while not mark_input in mark_list:\n",
    "        mark_input = input(\"Player 1, select your mark either 'X' or 'O'\")[0].upper()\n",
    "    \n",
    "    if mark_input == 'X':\n",
    "        return ('X','O')\n",
    "    else:\n",
    "        return ('O','X')\n",
    "        \n",
    "\n",
    "\n",
    "player_input()"
   ]
  },
  {
   "cell_type": "code",
   "execution_count": 21,
   "metadata": {},
   "outputs": [
    {
     "name": "stdout",
     "output_type": "stream",
     "text": [
      "Player 1, select your mark either 'X' or 'O'e\n",
      "Player 1, select your mark either 'X' or 'O't\n",
      "Player 1, select your mark either 'X' or 'O'x\n"
     ]
    }
   ],
   "source": [
    "player1_marker, player2_marker = player_input()"
   ]
  },
  {
   "cell_type": "code",
   "execution_count": 22,
   "metadata": {},
   "outputs": [
    {
     "data": {
      "text/plain": [
       "'X'"
      ]
     },
     "execution_count": 22,
     "metadata": {},
     "output_type": "execute_result"
    }
   ],
   "source": [
    "player1_marker"
   ]
  },
  {
   "cell_type": "code",
   "execution_count": null,
   "metadata": {},
   "outputs": [],
   "source": []
  },
  {
   "cell_type": "code",
   "execution_count": 120,
   "metadata": {},
   "outputs": [],
   "source": [
    "def place_marker(board,marker,position):\n",
    "    position_list = list(range(1,10))\n",
    "    \n",
    "    if position in position_list:\n",
    "        board[position] = marker\n",
    "        return board\n",
    "    else:\n",
    "        print(f\"The number entered '{position}' is out of range on the board. \\nPlease enter a valid number between (1 and 9).\")\n",
    "    "
   ]
  },
  {
   "cell_type": "code",
   "execution_count": 30,
   "metadata": {},
   "outputs": [
    {
     "data": {
      "text/plain": [
       "['#', '$', 'O', 'X', '$', 'X', 'O', 'X', 'O', '$']"
      ]
     },
     "execution_count": 30,
     "metadata": {},
     "output_type": "execute_result"
    }
   ],
   "source": [
    "place_maker(test_board,'$',4)"
   ]
  },
  {
   "cell_type": "code",
   "execution_count": 31,
   "metadata": {},
   "outputs": [
    {
     "name": "stdout",
     "output_type": "stream",
     "text": [
      " X | O | $ \n",
      "---|---|---\n",
      " $ | X | O \n",
      "---|---|---\n",
      " $ | O | X \n"
     ]
    }
   ],
   "source": [
    "display_board(test_board)"
   ]
  },
  {
   "cell_type": "code",
   "execution_count": null,
   "metadata": {},
   "outputs": [],
   "source": []
  },
  {
   "cell_type": "code",
   "execution_count": 36,
   "metadata": {},
   "outputs": [],
   "source": [
    "'''\n",
    "def win_check(board, mark):\n",
    "    # Win tic tac toe?\n",
    "    \n",
    "    board = board[1:]\n",
    "    \n",
    "    # ALL ROWS, and check to see if they all share the same marker?\n",
    "    \n",
    "    r_win = [[9,8,7],[6,5,4],[3,2,1]]\n",
    "    \n",
    "    for i in reversed(range(3)):\n",
    "        if board[i*3] in mark and board[i*3+1] in mark and board[i*3+2] in mark:\n",
    "            print(f\"{board[i*3]:^3}|{board[i*3+1]:^3}|{board[i*3+2]:^3}\")\n",
    "            return True\n",
    "    else:\n",
    "        print(f\"{board[i*3]:^3}|{board[i*3+1]:^3}|{board[i*3+2]:^3}\")\n",
    "        return False\n",
    "'''"
   ]
  },
  {
   "cell_type": "code",
   "execution_count": 37,
   "metadata": {},
   "outputs": [],
   "source": [
    "test_board = ['#','X','O','X','X','X','X','O','X','X']"
   ]
  },
  {
   "cell_type": "code",
   "execution_count": 38,
   "metadata": {},
   "outputs": [
    {
     "name": "stdout",
     "output_type": "stream",
     "text": [
      " X | X | X \n"
     ]
    },
    {
     "data": {
      "text/plain": [
       "True"
      ]
     },
     "execution_count": 38,
     "metadata": {},
     "output_type": "execute_result"
    }
   ],
   "source": [
    "win_check(test_board,'X')"
   ]
  },
  {
   "cell_type": "code",
   "execution_count": 4,
   "metadata": {},
   "outputs": [],
   "source": [
    "'''\n",
    "def test_equal(index1, index2, index3):\n",
    "    if index1 is not None and index1 == index2 and index2 == index3:\n",
    "        return index1 # either 'X' or 'O'\n",
    "    else:\n",
    "        return False\n",
    "\n",
    "def get_winner(board):\n",
    "\n",
    "    #Test for win, where board is a :list: [7, 8, 9, 4, 5, 6, 1, 2, 3]\n",
    "    b1, b2, b3 = board[6:]\n",
    "    b4, b5, b6 = board[3:6]\n",
    "    b7, b8, b9 = board[:3]\n",
    "    wins = (\n",
    "        test_equal(b1, b2, b3),\n",
    "        test_equal(b4, b5, b6),\n",
    "        test_equal(b7, b8, b9),\n",
    "        test_equal(b1, b4, b7),\n",
    "        test_equal(b2, b5, b8),\n",
    "        test_equal(b3, b6, b9),\n",
    "        test_equal(b1, b5, b9),\n",
    "        test_equal(b3, b5, b7)\n",
    "        )\n",
    "    return 'X' if 'X' in wins else ('O' if 'O' in wins else False)\n",
    "    \n",
    "'''"
   ]
  },
  {
   "cell_type": "code",
   "execution_count": 11,
   "metadata": {},
   "outputs": [],
   "source": [
    "test_board = ['X','O','O','X','X','X','O','X','X']"
   ]
  },
  {
   "cell_type": "code",
   "execution_count": 12,
   "metadata": {},
   "outputs": [
    {
     "data": {
      "text/plain": [
       "'X'"
      ]
     },
     "execution_count": 12,
     "metadata": {},
     "output_type": "execute_result"
    }
   ],
   "source": [
    "get_winner(test_board)"
   ]
  },
  {
   "cell_type": "code",
   "execution_count": 112,
   "metadata": {},
   "outputs": [],
   "source": [
    "def win_check(board, mark):\n",
    "    \n",
    "    '''\n",
    "        This function checks for wins on the board\n",
    "        \n",
    "        r_win = [[7,8,9],[4,5,6],[1,2,3]]\n",
    "        c_win = [[1,4,7],[2,5,8],[3,6,9]]\n",
    "        d_win = [[1,5,9],[3,5,7]]\n",
    "    \n",
    "    '''\n",
    "    \n",
    "    board_=[el == mark for el in board]\n",
    "    \n",
    "    if(any([\n",
    "        all(board_[1:4]),\n",
    "        all(board_[4:7]),\n",
    "        all(board_[7:10]),\n",
    "        all(board_[slice(1,8,3)]),\n",
    "        all(board_[slice(2,9,3)]),\n",
    "        all(board_[slice(3,10,3)]),\n",
    "        all(board_[slice(1,10,4)]),\n",
    "        all(board_[slice(3,8,2)])\n",
    "    ])):\n",
    "        return True\n",
    "    return False"
   ]
  },
  {
   "cell_type": "code",
   "execution_count": 92,
   "metadata": {},
   "outputs": [],
   "source": [
    "test_board = ['#','X','X','O','X','O','X','X','O','X']"
   ]
  },
  {
   "cell_type": "code",
   "execution_count": 93,
   "metadata": {},
   "outputs": [
    {
     "name": "stdout",
     "output_type": "stream",
     "text": [
      " X | O | X \n",
      "---|---|---\n",
      " X | O | X \n",
      "---|---|---\n",
      " X | X | O \n"
     ]
    },
    {
     "data": {
      "text/plain": [
       "True"
      ]
     },
     "execution_count": 93,
     "metadata": {},
     "output_type": "execute_result"
    }
   ],
   "source": [
    "display_board(test_board)\n",
    "win_check(test_board,'X')"
   ]
  },
  {
   "cell_type": "code",
   "execution_count": null,
   "metadata": {},
   "outputs": [],
   "source": []
  },
  {
   "cell_type": "code",
   "execution_count": 113,
   "metadata": {},
   "outputs": [],
   "source": [
    "import random\n",
    "\n",
    "def choose_first_player():\n",
    "    \n",
    "    flip = random.randint(0,1)\n",
    "    \n",
    "    if flip == 0:\n",
    "        return \"Player 1\"\n",
    "    else:\n",
    "        return \"Player 2\""
   ]
  },
  {
   "cell_type": "code",
   "execution_count": 98,
   "metadata": {},
   "outputs": [
    {
     "data": {
      "text/plain": [
       "'Player 2'"
      ]
     },
     "execution_count": 98,
     "metadata": {},
     "output_type": "execute_result"
    }
   ],
   "source": [
    "choose_first_player()"
   ]
  },
  {
   "cell_type": "code",
   "execution_count": null,
   "metadata": {},
   "outputs": [],
   "source": []
  },
  {
   "cell_type": "code",
   "execution_count": 114,
   "metadata": {},
   "outputs": [],
   "source": [
    "def space_check(board, position):\n",
    "    return board[position] == ' '"
   ]
  },
  {
   "cell_type": "code",
   "execution_count": null,
   "metadata": {},
   "outputs": [],
   "source": []
  },
  {
   "cell_type": "code",
   "execution_count": 115,
   "metadata": {},
   "outputs": [],
   "source": [
    "def full_board_check(board):\n",
    "    \n",
    "    for i in range(1,10):\n",
    "        if space_check(board,i):\n",
    "            return False\n",
    "    # Board is full so we return True\n",
    "    return True"
   ]
  },
  {
   "cell_type": "code",
   "execution_count": null,
   "metadata": {},
   "outputs": [],
   "source": []
  },
  {
   "cell_type": "code",
   "execution_count": null,
   "metadata": {},
   "outputs": [],
   "source": [
    "def player_choice(board,player):\n",
    "    \n",
    "    position = 0\n",
    "    \n",
    "    while position not in list(range(1,10)) or not space_check(board,position):\n",
    "        if player = 'Player 1'\n",
    "            position = int(input(\"Player 1, choose a position (1-9): \"))\n",
    "        else:\n",
    "            position = int(input(\"Player 2, choose a position (1-9): \"))\n",
    "        \n",
    "    return position"
   ]
  },
  {
   "cell_type": "code",
   "execution_count": null,
   "metadata": {},
   "outputs": [],
   "source": []
  },
  {
   "cell_type": "code",
   "execution_count": 117,
   "metadata": {},
   "outputs": [],
   "source": [
    "def replay():\n",
    "    \n",
    "    choice = input(\"Play again? Enter Yes or No: \").upper()\n",
    "    \n",
    "    return choice == 'YES'"
   ]
  },
  {
   "cell_type": "code",
   "execution_count": null,
   "metadata": {},
   "outputs": [],
   "source": []
  },
  {
   "cell_type": "code",
   "execution_count": null,
   "metadata": {},
   "outputs": [],
   "source": []
  },
  {
   "cell_type": "code",
   "execution_count": null,
   "metadata": {},
   "outputs": [],
   "source": [
    "# while loop to keep running the game\n",
    "\n",
    "print(\"Welcome to TIC-TAC-TOE\")\n",
    "\n",
    "while True:\n",
    "    \n",
    "    # play the game\n",
    "    \n",
    "    # set everything up (board, who is first, choose marker X,O)\n",
    "    the_board = [' ']*10\n",
    "    player1_marker, player2_marker = player_input()\n",
    "    \n",
    "    turn = choose_first_player()\n",
    "    print(f\"{turn} will go first.\")\n",
    "    \n",
    "    play_game = input(\"Ready to play? Yes or No\").upper()\n",
    "    \n",
    "    if play_game == 'YES':\n",
    "        game_on = True\n",
    "    else:\n",
    "        game_on = False\n",
    "        \n",
    "        \n",
    "    while game_on:\n",
    "        \n",
    "        if turn == 'Player 1':\n",
    "            \n",
    "            ### Player one turn\n",
    "            \n",
    "            # show the board\n",
    "            display_board(the_board)\n",
    "            \n",
    "            # choose a position\n",
    "            position = player_choice(the_board,turn)\n",
    "            \n",
    "            # place the marker on the position\n",
    "            place_marker(the_board,player1_marker,position)\n",
    "            \n",
    "            # check if they won\n",
    "            if win_check(the_board,player1_marker):\n",
    "                display_board(the_board)\n",
    "                print(\"Player 1 has WON!!\")\n",
    "                game_on = False\n",
    "            \n",
    "            # or check if there is a tie\n",
    "            elif full_board_check(the_board):\n",
    "                display_board(the_board)\n",
    "                print(\"Tie Game!\")\n",
    "                game_on = False\n",
    "            \n",
    "            # if no tie and no win, then next player's turn\n",
    "            else:\n",
    "                turn = 'Player 2'\n",
    "        \n",
    "        else:  \n",
    "            ### Player two turn\n",
    "\n",
    "            # show the board\n",
    "            display_board(the_board)\n",
    "\n",
    "            # choose a position\n",
    "            position = player_choice(the_board)\n",
    "\n",
    "            # place the marker on the position\n",
    "            place_marker(the_board,player2_marker,position)\n",
    "\n",
    "            # check if they won\n",
    "            if win_check(the_board,player2_marker):\n",
    "                display_board(the_board)\n",
    "                print(\"Player 2 has WON!!\")\n",
    "                game_on = False\n",
    "\n",
    "            # or check if there is a tie\n",
    "            elif full_board_check(the_board):\n",
    "                display_board(the_board)\n",
    "                print(\"Tie Game!\")\n",
    "                game_on = False\n",
    "\n",
    "            # if no tie and no win, then next player's turn\n",
    "            else:\n",
    "                turn = 'Player 1'\n",
    "    \n",
    "    if not replay():\n",
    "        break\n",
    "    # Break out of the while loop on replay()    \n",
    "    "
   ]
  },
  {
   "cell_type": "code",
   "execution_count": null,
   "metadata": {},
   "outputs": [],
   "source": []
  }
 ],
 "metadata": {
  "kernelspec": {
   "display_name": "Python 3",
   "language": "python",
   "name": "python3"
  },
  "language_info": {
   "codemirror_mode": {
    "name": "ipython",
    "version": 3
   },
   "file_extension": ".py",
   "mimetype": "text/x-python",
   "name": "python",
   "nbconvert_exporter": "python",
   "pygments_lexer": "ipython3",
   "version": "3.8.2"
  }
 },
 "nbformat": 4,
 "nbformat_minor": 4
}
